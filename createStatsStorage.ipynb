{
 "cells": [
  {
   "cell_type": "code",
   "execution_count": 1,
   "id": "6c858fc2-15f3-478a-ac23-7900c29e6f4d",
   "metadata": {},
   "outputs": [],
   "source": [
    "import pandas as pd\n",
    "import numpy as np\n",
    "\n",
    "from pathlib import Path"
   ]
  },
  {
   "cell_type": "code",
   "execution_count": 2,
   "id": "07999363-ad48-40fb-985b-0e73b2c4d0d4",
   "metadata": {},
   "outputs": [],
   "source": [
    "from youdied.src.inspiration_message import messages"
   ]
  },
  {
   "cell_type": "code",
   "execution_count": 3,
   "id": "e9e987fa-4a94-4795-b105-f2ee509d1d8c",
   "metadata": {},
   "outputs": [],
   "source": [
    "# Define and create a folder in the user's folder\n",
    "storage_folder = Path().home() / '.youdied'\n",
    "# simple death count .txt file folder\n",
    "death_count_folder = storage_folder / 'deathCount'\n",
    "\n",
    "# create if not exists\n",
    "storage_folder.mkdir(parents=True, exist_ok=True)\n",
    "death_count_folder.mkdir(parents=True, exist_ok=True)\n",
    "\n",
    "# define files to store statistics\n",
    "session_file = storage_folder / 'sessions.csv'  # Store character names (and session durations?)\n",
    "death_file = storage_folder / 'deaths.csv'  # Long format of character deaths\n",
    "message_file = storage_folder/ 'messages.csv'"
   ]
  },
  {
   "cell_type": "code",
   "execution_count": 278,
   "id": "70077a50-374e-4335-80ec-e055c8757381",
   "metadata": {},
   "outputs": [],
   "source": [
    "session_columns = ['Character', 'Started']\n",
    "death_columns = ['Character', 'TimeOfDeath']\n",
    "message_columns = ['Message', 'Used']"
   ]
  },
  {
   "cell_type": "code",
   "execution_count": 279,
   "id": "672c257d-8608-4c3f-b933-2d6d22d0b3ae",
   "metadata": {},
   "outputs": [],
   "source": [
    "def initialize_storage():\n",
    "    # create files if not existing\n",
    "    if not session_file.exists():\n",
    "        session_df = pd.DataFrame(columns=session_columns)\n",
    "        session_df.to_csv(session_file)\n",
    "    if not death_file.exists():\n",
    "        death_df = pd.DataFrame(columns=death_columns)\n",
    "        death_df.to_csv(death_file)\n",
    "    if not message_file.exists():\n",
    "        message_df = pd.DataFrame(((p, 0) for p in messages), columns=message_columns)\n",
    "        message_df.to_csv(message_file, encoding='utf8')\n",
    "        \n",
    "    session_df = pd.read_csv(session_file, index_col=0)\n",
    "    death_df = pd.read_csv(death_file, index_col=0)\n",
    "    message_df = pd.read_csv(message_file, index_col=0)\n",
    "    return session_df, death_df, message_df"
   ]
  },
  {
   "cell_type": "code",
   "execution_count": 280,
   "id": "f4344beb-eec5-403c-a63f-22c4bbee344c",
   "metadata": {},
   "outputs": [],
   "source": [
    "# random names\n",
    "characters = ['Tarnished finger', 'Always Feet 69', 'Elden Lard', 'Cavelady Dida']\n",
    "\n",
    "def gen_dummy_session_data():\n",
    "    for i in range(1, 21):\n",
    "        character = np.random.choice(characters)\n",
    "        start = pd.Timestamp(f'2022-04-{i:02d}T12:00:00')\n",
    "        yield (character, start)\n",
    "        \n",
    "        \n",
    "def gen_dummy_death_data():\n",
    "    for i in range(1, 21):\n",
    "        character = np.random.choice(characters)\n",
    "        time_of_death = pd.Timestamp(f'2022-04-{i:02d}T12:{np.random.randint(1, 60):02d}:{np.random.randint(1, 60):02d}')\n",
    "        yield (character, time_of_death)\n",
    "    "
   ]
  },
  {
   "cell_type": "code",
   "execution_count": 281,
   "id": "df2a6b72-2eb2-4812-bcca-20d717160ac4",
   "metadata": {},
   "outputs": [
    {
     "data": {
      "text/html": [
       "<div>\n",
       "<style scoped>\n",
       "    .dataframe tbody tr th:only-of-type {\n",
       "        vertical-align: middle;\n",
       "    }\n",
       "\n",
       "    .dataframe tbody tr th {\n",
       "        vertical-align: top;\n",
       "    }\n",
       "\n",
       "    .dataframe thead th {\n",
       "        text-align: right;\n",
       "    }\n",
       "</style>\n",
       "<table border=\"1\" class=\"dataframe\">\n",
       "  <thead>\n",
       "    <tr style=\"text-align: right;\">\n",
       "      <th></th>\n",
       "      <th>Character</th>\n",
       "      <th>Started</th>\n",
       "    </tr>\n",
       "  </thead>\n",
       "  <tbody>\n",
       "    <tr>\n",
       "      <th>0</th>\n",
       "      <td>Cavelady Dida</td>\n",
       "      <td>2022-04-01 12:00:00</td>\n",
       "    </tr>\n",
       "    <tr>\n",
       "      <th>1</th>\n",
       "      <td>Cavelady Dida</td>\n",
       "      <td>2022-04-02 12:00:00</td>\n",
       "    </tr>\n",
       "    <tr>\n",
       "      <th>2</th>\n",
       "      <td>Cavelady Dida</td>\n",
       "      <td>2022-04-03 12:00:00</td>\n",
       "    </tr>\n",
       "    <tr>\n",
       "      <th>3</th>\n",
       "      <td>Elden Lard</td>\n",
       "      <td>2022-04-04 12:00:00</td>\n",
       "    </tr>\n",
       "    <tr>\n",
       "      <th>4</th>\n",
       "      <td>Always Feet 69</td>\n",
       "      <td>2022-04-05 12:00:00</td>\n",
       "    </tr>\n",
       "    <tr>\n",
       "      <th>5</th>\n",
       "      <td>Cavelady Dida</td>\n",
       "      <td>2022-04-06 12:00:00</td>\n",
       "    </tr>\n",
       "    <tr>\n",
       "      <th>6</th>\n",
       "      <td>Elden Lard</td>\n",
       "      <td>2022-04-07 12:00:00</td>\n",
       "    </tr>\n",
       "    <tr>\n",
       "      <th>7</th>\n",
       "      <td>Elden Lard</td>\n",
       "      <td>2022-04-08 12:00:00</td>\n",
       "    </tr>\n",
       "    <tr>\n",
       "      <th>8</th>\n",
       "      <td>Cavelady Dida</td>\n",
       "      <td>2022-04-09 12:00:00</td>\n",
       "    </tr>\n",
       "    <tr>\n",
       "      <th>9</th>\n",
       "      <td>Cavelady Dida</td>\n",
       "      <td>2022-04-10 12:00:00</td>\n",
       "    </tr>\n",
       "    <tr>\n",
       "      <th>10</th>\n",
       "      <td>Tarnished finger</td>\n",
       "      <td>2022-04-11 12:00:00</td>\n",
       "    </tr>\n",
       "    <tr>\n",
       "      <th>11</th>\n",
       "      <td>Cavelady Dida</td>\n",
       "      <td>2022-04-12 12:00:00</td>\n",
       "    </tr>\n",
       "    <tr>\n",
       "      <th>12</th>\n",
       "      <td>Always Feet 69</td>\n",
       "      <td>2022-04-13 12:00:00</td>\n",
       "    </tr>\n",
       "    <tr>\n",
       "      <th>13</th>\n",
       "      <td>Always Feet 69</td>\n",
       "      <td>2022-04-14 12:00:00</td>\n",
       "    </tr>\n",
       "    <tr>\n",
       "      <th>14</th>\n",
       "      <td>Tarnished finger</td>\n",
       "      <td>2022-04-15 12:00:00</td>\n",
       "    </tr>\n",
       "    <tr>\n",
       "      <th>15</th>\n",
       "      <td>Cavelady Dida</td>\n",
       "      <td>2022-04-16 12:00:00</td>\n",
       "    </tr>\n",
       "    <tr>\n",
       "      <th>16</th>\n",
       "      <td>Always Feet 69</td>\n",
       "      <td>2022-04-17 12:00:00</td>\n",
       "    </tr>\n",
       "    <tr>\n",
       "      <th>17</th>\n",
       "      <td>Elden Lard</td>\n",
       "      <td>2022-04-18 12:00:00</td>\n",
       "    </tr>\n",
       "    <tr>\n",
       "      <th>18</th>\n",
       "      <td>Elden Lard</td>\n",
       "      <td>2022-04-19 12:00:00</td>\n",
       "    </tr>\n",
       "    <tr>\n",
       "      <th>19</th>\n",
       "      <td>Elden Lard</td>\n",
       "      <td>2022-04-20 12:00:00</td>\n",
       "    </tr>\n",
       "  </tbody>\n",
       "</table>\n",
       "</div>"
      ],
      "text/plain": [
       "           Character             Started\n",
       "0      Cavelady Dida 2022-04-01 12:00:00\n",
       "1      Cavelady Dida 2022-04-02 12:00:00\n",
       "2      Cavelady Dida 2022-04-03 12:00:00\n",
       "3         Elden Lard 2022-04-04 12:00:00\n",
       "4     Always Feet 69 2022-04-05 12:00:00\n",
       "5      Cavelady Dida 2022-04-06 12:00:00\n",
       "6         Elden Lard 2022-04-07 12:00:00\n",
       "7         Elden Lard 2022-04-08 12:00:00\n",
       "8      Cavelady Dida 2022-04-09 12:00:00\n",
       "9      Cavelady Dida 2022-04-10 12:00:00\n",
       "10  Tarnished finger 2022-04-11 12:00:00\n",
       "11     Cavelady Dida 2022-04-12 12:00:00\n",
       "12    Always Feet 69 2022-04-13 12:00:00\n",
       "13    Always Feet 69 2022-04-14 12:00:00\n",
       "14  Tarnished finger 2022-04-15 12:00:00\n",
       "15     Cavelady Dida 2022-04-16 12:00:00\n",
       "16    Always Feet 69 2022-04-17 12:00:00\n",
       "17        Elden Lard 2022-04-18 12:00:00\n",
       "18        Elden Lard 2022-04-19 12:00:00\n",
       "19        Elden Lard 2022-04-20 12:00:00"
      ]
     },
     "execution_count": 281,
     "metadata": {},
     "output_type": "execute_result"
    }
   ],
   "source": [
    "session_df = pd.DataFrame(gen_dummy_session_data(), columns=session_columns)\n",
    "session_df"
   ]
  },
  {
   "cell_type": "code",
   "execution_count": 8,
   "id": "fd487282-bfe9-47ce-b1cf-38bff3aeedd8",
   "metadata": {},
   "outputs": [
    {
     "data": {
      "text/html": [
       "<div>\n",
       "<style scoped>\n",
       "    .dataframe tbody tr th:only-of-type {\n",
       "        vertical-align: middle;\n",
       "    }\n",
       "\n",
       "    .dataframe tbody tr th {\n",
       "        vertical-align: top;\n",
       "    }\n",
       "\n",
       "    .dataframe thead th {\n",
       "        text-align: right;\n",
       "    }\n",
       "</style>\n",
       "<table border=\"1\" class=\"dataframe\">\n",
       "  <thead>\n",
       "    <tr style=\"text-align: right;\">\n",
       "      <th></th>\n",
       "      <th>Character</th>\n",
       "      <th>TimeOfDeath</th>\n",
       "    </tr>\n",
       "  </thead>\n",
       "  <tbody>\n",
       "    <tr>\n",
       "      <th>0</th>\n",
       "      <td>Tarnished finger</td>\n",
       "      <td>2022-04-01 12:25:06</td>\n",
       "    </tr>\n",
       "    <tr>\n",
       "      <th>1</th>\n",
       "      <td>Elden Lard</td>\n",
       "      <td>2022-04-02 12:21:14</td>\n",
       "    </tr>\n",
       "    <tr>\n",
       "      <th>2</th>\n",
       "      <td>Cavelady Dida</td>\n",
       "      <td>2022-04-03 12:48:50</td>\n",
       "    </tr>\n",
       "    <tr>\n",
       "      <th>3</th>\n",
       "      <td>Cavelady Dida</td>\n",
       "      <td>2022-04-04 12:09:25</td>\n",
       "    </tr>\n",
       "    <tr>\n",
       "      <th>4</th>\n",
       "      <td>Tarnished finger</td>\n",
       "      <td>2022-04-05 12:37:51</td>\n",
       "    </tr>\n",
       "    <tr>\n",
       "      <th>5</th>\n",
       "      <td>Cavelady Dida</td>\n",
       "      <td>2022-04-06 12:56:43</td>\n",
       "    </tr>\n",
       "    <tr>\n",
       "      <th>6</th>\n",
       "      <td>Tarnished finger</td>\n",
       "      <td>2022-04-07 12:32:56</td>\n",
       "    </tr>\n",
       "    <tr>\n",
       "      <th>7</th>\n",
       "      <td>Elden Lard</td>\n",
       "      <td>2022-04-08 12:29:50</td>\n",
       "    </tr>\n",
       "    <tr>\n",
       "      <th>8</th>\n",
       "      <td>Elden Lard</td>\n",
       "      <td>2022-04-09 12:46:45</td>\n",
       "    </tr>\n",
       "    <tr>\n",
       "      <th>9</th>\n",
       "      <td>Always Feet 69</td>\n",
       "      <td>2022-04-10 12:37:21</td>\n",
       "    </tr>\n",
       "    <tr>\n",
       "      <th>10</th>\n",
       "      <td>Elden Lard</td>\n",
       "      <td>2022-04-11 12:19:26</td>\n",
       "    </tr>\n",
       "    <tr>\n",
       "      <th>11</th>\n",
       "      <td>Elden Lard</td>\n",
       "      <td>2022-04-12 12:32:49</td>\n",
       "    </tr>\n",
       "    <tr>\n",
       "      <th>12</th>\n",
       "      <td>Always Feet 69</td>\n",
       "      <td>2022-04-13 12:38:32</td>\n",
       "    </tr>\n",
       "    <tr>\n",
       "      <th>13</th>\n",
       "      <td>Always Feet 69</td>\n",
       "      <td>2022-04-14 12:48:04</td>\n",
       "    </tr>\n",
       "    <tr>\n",
       "      <th>14</th>\n",
       "      <td>Tarnished finger</td>\n",
       "      <td>2022-04-15 12:41:52</td>\n",
       "    </tr>\n",
       "    <tr>\n",
       "      <th>15</th>\n",
       "      <td>Cavelady Dida</td>\n",
       "      <td>2022-04-16 12:47:39</td>\n",
       "    </tr>\n",
       "    <tr>\n",
       "      <th>16</th>\n",
       "      <td>Elden Lard</td>\n",
       "      <td>2022-04-17 12:21:17</td>\n",
       "    </tr>\n",
       "    <tr>\n",
       "      <th>17</th>\n",
       "      <td>Elden Lard</td>\n",
       "      <td>2022-04-18 12:35:10</td>\n",
       "    </tr>\n",
       "    <tr>\n",
       "      <th>18</th>\n",
       "      <td>Elden Lard</td>\n",
       "      <td>2022-04-19 12:19:58</td>\n",
       "    </tr>\n",
       "    <tr>\n",
       "      <th>19</th>\n",
       "      <td>Always Feet 69</td>\n",
       "      <td>2022-04-20 12:40:14</td>\n",
       "    </tr>\n",
       "  </tbody>\n",
       "</table>\n",
       "</div>"
      ],
      "text/plain": [
       "           Character         TimeOfDeath\n",
       "0   Tarnished finger 2022-04-01 12:25:06\n",
       "1         Elden Lard 2022-04-02 12:21:14\n",
       "2      Cavelady Dida 2022-04-03 12:48:50\n",
       "3      Cavelady Dida 2022-04-04 12:09:25\n",
       "4   Tarnished finger 2022-04-05 12:37:51\n",
       "5      Cavelady Dida 2022-04-06 12:56:43\n",
       "6   Tarnished finger 2022-04-07 12:32:56\n",
       "7         Elden Lard 2022-04-08 12:29:50\n",
       "8         Elden Lard 2022-04-09 12:46:45\n",
       "9     Always Feet 69 2022-04-10 12:37:21\n",
       "10        Elden Lard 2022-04-11 12:19:26\n",
       "11        Elden Lard 2022-04-12 12:32:49\n",
       "12    Always Feet 69 2022-04-13 12:38:32\n",
       "13    Always Feet 69 2022-04-14 12:48:04\n",
       "14  Tarnished finger 2022-04-15 12:41:52\n",
       "15     Cavelady Dida 2022-04-16 12:47:39\n",
       "16        Elden Lard 2022-04-17 12:21:17\n",
       "17        Elden Lard 2022-04-18 12:35:10\n",
       "18        Elden Lard 2022-04-19 12:19:58\n",
       "19    Always Feet 69 2022-04-20 12:40:14"
      ]
     },
     "execution_count": 8,
     "metadata": {},
     "output_type": "execute_result"
    }
   ],
   "source": [
    "death_df = pd.DataFrame(gen_dummy_death_data(), columns=death_columns)\n",
    "death_df"
   ]
  },
  {
   "cell_type": "code",
   "execution_count": 9,
   "id": "4a793b36-1c22-4175-bd28-f7683e35db31",
   "metadata": {},
   "outputs": [],
   "source": [
    "session_df.to_csv(session_file)\n",
    "death_df.to_csv(death_file)"
   ]
  },
  {
   "cell_type": "code",
   "execution_count": 10,
   "id": "52a3daa7-1805-4506-bb5c-d7ea62a0055c",
   "metadata": {},
   "outputs": [
    {
     "data": {
      "text/html": [
       "<div>\n",
       "<style scoped>\n",
       "    .dataframe tbody tr th:only-of-type {\n",
       "        vertical-align: middle;\n",
       "    }\n",
       "\n",
       "    .dataframe tbody tr th {\n",
       "        vertical-align: top;\n",
       "    }\n",
       "\n",
       "    .dataframe thead th {\n",
       "        text-align: right;\n",
       "    }\n",
       "</style>\n",
       "<table border=\"1\" class=\"dataframe\">\n",
       "  <thead>\n",
       "    <tr style=\"text-align: right;\">\n",
       "      <th></th>\n",
       "      <th>Character</th>\n",
       "      <th>TimeOfDeath</th>\n",
       "    </tr>\n",
       "  </thead>\n",
       "  <tbody>\n",
       "    <tr>\n",
       "      <th>0</th>\n",
       "      <td>Tarnished finger</td>\n",
       "      <td>2022-04-01 12:25:06</td>\n",
       "    </tr>\n",
       "    <tr>\n",
       "      <th>4</th>\n",
       "      <td>Tarnished finger</td>\n",
       "      <td>2022-04-05 12:37:51</td>\n",
       "    </tr>\n",
       "    <tr>\n",
       "      <th>6</th>\n",
       "      <td>Tarnished finger</td>\n",
       "      <td>2022-04-07 12:32:56</td>\n",
       "    </tr>\n",
       "    <tr>\n",
       "      <th>14</th>\n",
       "      <td>Tarnished finger</td>\n",
       "      <td>2022-04-15 12:41:52</td>\n",
       "    </tr>\n",
       "  </tbody>\n",
       "</table>\n",
       "</div>"
      ],
      "text/plain": [
       "           Character         TimeOfDeath\n",
       "0   Tarnished finger 2022-04-01 12:25:06\n",
       "4   Tarnished finger 2022-04-05 12:37:51\n",
       "6   Tarnished finger 2022-04-07 12:32:56\n",
       "14  Tarnished finger 2022-04-15 12:41:52"
      ]
     },
     "execution_count": 10,
     "metadata": {},
     "output_type": "execute_result"
    }
   ],
   "source": [
    "tfd = death_df[death_df.Character == 'Tarnished finger']\n",
    "tfd"
   ]
  },
  {
   "cell_type": "code",
   "execution_count": 11,
   "id": "3d192084-de5c-492e-90c6-52bfdd359168",
   "metadata": {},
   "outputs": [
    {
     "data": {
      "text/plain": [
       "4"
      ]
     },
     "execution_count": 11,
     "metadata": {},
     "output_type": "execute_result"
    }
   ],
   "source": [
    "tfd.shape[0]"
   ]
  },
  {
   "cell_type": "code",
   "execution_count": 283,
   "id": "6ffd9593-63db-41f5-9603-c1c33a5f922e",
   "metadata": {},
   "outputs": [],
   "source": [
    "session_df, death_df, message_df = initialize_storage()\n",
    "\n",
    "def write_death_count(character):\n",
    "    # Write the updated death count to a file in the death_count_folder\n",
    "    #  with the character name as file name\n",
    "    n_deaths = death_df[death_df.Character == character].shape[0]\n",
    "    death_count_file = death_count_folder / f'{character}.txt'\n",
    "    death_count_file.touch(exist_ok=True)\n",
    "    death_count_file.write_text(str(n_deaths), encoding='utf8')\n",
    "\n",
    "def add_death(character, time_of_death):\n",
    "    new_index = death_df.shape[0]\n",
    "    # add new row\n",
    "    death_df.loc[new_index]= (character, time_of_death)\n",
    "    # save file\n",
    "    death_df.to_csv(death_file, encoding='utf8')\n",
    "    # update death count file\n",
    "    write_death_count(character)\n",
    "    \n",
    "def add_session(character):\n",
    "    new_index = session_df.shape[0]\n",
    "    session_df.loc[new_index] = (character, pd.Timestamp('now'))\n",
    "    session_df.to_csv(session_file, encoding='utf8')\n",
    "    \n",
    "def create_inspiration_message():\n",
    "    # create candidates from the least used messages\n",
    "    candidates = message_df[message_df.Used == message_df.Used.min()]\n",
    "    # pick a random candidate row\n",
    "    new_message_ix = np.random.choice(candidates.index)\n",
    "    # update use count and save to file\n",
    "    message_df.loc[new_message_ix, 'Used'] += 1\n",
    "    message_df.to_csv(message_file)\n",
    "    # get message string\n",
    "    message = message_df.loc[new_message_ix].Message\n",
    "    return message"
   ]
  },
  {
   "cell_type": "code",
   "execution_count": 313,
   "id": "b5d252c3-83dd-4168-881a-3f500fc87abc",
   "metadata": {},
   "outputs": [
    {
     "data": {
      "text/plain": [
       "'A man who cannot tolerate small misfortunes can never accomplish great things.'"
      ]
     },
     "execution_count": 313,
     "metadata": {},
     "output_type": "execute_result"
    }
   ],
   "source": [
    "create_inspiration_message()"
   ]
  },
  {
   "cell_type": "code",
   "execution_count": 274,
   "id": "d0042092-081d-40f9-9b59-a4c4913e8aaa",
   "metadata": {},
   "outputs": [
    {
     "data": {
      "text/html": [
       "<div>\n",
       "<style scoped>\n",
       "    .dataframe tbody tr th:only-of-type {\n",
       "        vertical-align: middle;\n",
       "    }\n",
       "\n",
       "    .dataframe tbody tr th {\n",
       "        vertical-align: top;\n",
       "    }\n",
       "\n",
       "    .dataframe thead th {\n",
       "        text-align: right;\n",
       "    }\n",
       "</style>\n",
       "<table border=\"1\" class=\"dataframe\">\n",
       "  <thead>\n",
       "    <tr style=\"text-align: right;\">\n",
       "      <th></th>\n",
       "      <th>Message</th>\n",
       "      <th>Used</th>\n",
       "    </tr>\n",
       "  </thead>\n",
       "  <tbody>\n",
       "    <tr>\n",
       "      <th>0</th>\n",
       "      <td>He who asks is a fool for five minutes, but he...</td>\n",
       "      <td>1</td>\n",
       "    </tr>\n",
       "    <tr>\n",
       "      <th>1</th>\n",
       "      <td>Give a man a fish and you feed him for a day. ...</td>\n",
       "      <td>1</td>\n",
       "    </tr>\n",
       "    <tr>\n",
       "      <th>2</th>\n",
       "      <td>Do not desire to hurt others in the depths of ...</td>\n",
       "      <td>2</td>\n",
       "    </tr>\n",
       "    <tr>\n",
       "      <th>3</th>\n",
       "      <td>When reading, don’t let a single word escape y...</td>\n",
       "      <td>1</td>\n",
       "    </tr>\n",
       "    <tr>\n",
       "      <th>4</th>\n",
       "      <td>Blame yourself as you blame others; forgive ot...</td>\n",
       "      <td>1</td>\n",
       "    </tr>\n",
       "  </tbody>\n",
       "</table>\n",
       "</div>"
      ],
      "text/plain": [
       "                                             Message  Used\n",
       "0  He who asks is a fool for five minutes, but he...     1\n",
       "1  Give a man a fish and you feed him for a day. ...     1\n",
       "2  Do not desire to hurt others in the depths of ...     2\n",
       "3  When reading, don’t let a single word escape y...     1\n",
       "4  Blame yourself as you blame others; forgive ot...     1"
      ]
     },
     "execution_count": 274,
     "metadata": {},
     "output_type": "execute_result"
    }
   ],
   "source": [
    "message_df.head()"
   ]
  },
  {
   "cell_type": "code",
   "execution_count": 273,
   "id": "a63793d8-709f-44f5-89ba-03744517c71e",
   "metadata": {},
   "outputs": [
    {
     "data": {
      "text/plain": [
       "(236,\n",
       " 'There is a vitality, a life force, an energy, a quickening that is translated through you into action, and because there is only one of you in all time, this expression is unique. And if you block it, it will never exist through any other medium and will be lost.')"
      ]
     },
     "execution_count": 273,
     "metadata": {},
     "output_type": "execute_result"
    }
   ],
   "source": [
    "# create candidates from the least used messages\n",
    "candidates = message_df[message_df.Used == message_df.Used.min()]\n",
    "# pick a random candidate row\n",
    "new_message_ix = np.random.choice(candidates.index)\n",
    "# update use count\n",
    "message_df.loc[new_message_ix, 'Used'] += 1\n",
    "# get message string\n",
    "message = message_df.loc[new_message_ix].Message\n",
    "\n",
    "candidates.shape[0], message"
   ]
  },
  {
   "cell_type": "code",
   "execution_count": 16,
   "id": "6b946452-c989-41e5-9ceb-e8c62ba3a77c",
   "metadata": {},
   "outputs": [
    {
     "data": {
      "text/html": [
       "<div>\n",
       "<style scoped>\n",
       "    .dataframe tbody tr th:only-of-type {\n",
       "        vertical-align: middle;\n",
       "    }\n",
       "\n",
       "    .dataframe tbody tr th {\n",
       "        vertical-align: top;\n",
       "    }\n",
       "\n",
       "    .dataframe thead th {\n",
       "        text-align: right;\n",
       "    }\n",
       "</style>\n",
       "<table border=\"1\" class=\"dataframe\">\n",
       "  <thead>\n",
       "    <tr style=\"text-align: right;\">\n",
       "      <th></th>\n",
       "      <th>Character</th>\n",
       "      <th>TimeOfDeath</th>\n",
       "    </tr>\n",
       "  </thead>\n",
       "  <tbody>\n",
       "    <tr>\n",
       "      <th>16</th>\n",
       "      <td>Elden Lard</td>\n",
       "      <td>2022-04-17 12:21:17</td>\n",
       "    </tr>\n",
       "    <tr>\n",
       "      <th>17</th>\n",
       "      <td>Elden Lard</td>\n",
       "      <td>2022-04-18 12:35:10</td>\n",
       "    </tr>\n",
       "    <tr>\n",
       "      <th>18</th>\n",
       "      <td>Elden Lard</td>\n",
       "      <td>2022-04-19 12:19:58</td>\n",
       "    </tr>\n",
       "    <tr>\n",
       "      <th>19</th>\n",
       "      <td>Always Feet 69</td>\n",
       "      <td>2022-04-20 12:40:14</td>\n",
       "    </tr>\n",
       "    <tr>\n",
       "      <th>20</th>\n",
       "      <td>Bob The monster</td>\n",
       "      <td>2022-04-19 02:14:21.805095</td>\n",
       "    </tr>\n",
       "  </tbody>\n",
       "</table>\n",
       "</div>"
      ],
      "text/plain": [
       "          Character                 TimeOfDeath\n",
       "16       Elden Lard         2022-04-17 12:21:17\n",
       "17       Elden Lard         2022-04-18 12:35:10\n",
       "18       Elden Lard         2022-04-19 12:19:58\n",
       "19   Always Feet 69         2022-04-20 12:40:14\n",
       "20  Bob The monster  2022-04-19 02:14:21.805095"
      ]
     },
     "execution_count": 16,
     "metadata": {},
     "output_type": "execute_result"
    }
   ],
   "source": [
    "add_death('Bob The monster', pd.Timestamp('now'))\n",
    "death_df.tail()"
   ]
  },
  {
   "cell_type": "code",
   "execution_count": 17,
   "id": "56e6211f-bf9a-43ba-b1e3-c214c0c29e53",
   "metadata": {},
   "outputs": [
    {
     "data": {
      "text/plain": [
       "'1'"
      ]
     },
     "execution_count": 17,
     "metadata": {},
     "output_type": "execute_result"
    }
   ],
   "source": [
    "(death_count_folder / f'Bob The monster.txt').read_text()"
   ]
  },
  {
   "cell_type": "code",
   "execution_count": null,
   "id": "fdd4fef2-0118-45ab-9f39-34f3f87317ec",
   "metadata": {},
   "outputs": [],
   "source": []
  },
  {
   "cell_type": "code",
   "execution_count": 332,
   "id": "014c56ca-a233-498e-a457-32d4dd4c81e1",
   "metadata": {},
   "outputs": [
    {
     "data": {
      "text/plain": [
       "'Tarnished finger'"
      ]
     },
     "execution_count": 332,
     "metadata": {},
     "output_type": "execute_result"
    }
   ],
   "source": [
    "# get previous (last used character)\n",
    "'' or session_df.iloc[0:1].iloc[-1].Character"
   ]
  },
  {
   "cell_type": "code",
   "execution_count": 364,
   "id": "869f80ce-ac5d-4ebc-8d8f-dff2501695d5",
   "metadata": {},
   "outputs": [
    {
     "name": "stdout",
     "output_type": "stream",
     "text": [
      "           Character              Started                Ended\n",
      "      Always Feet 69  2022-04-20 12:00:00  2022-04-20 14:00:00\n"
     ]
    }
   ],
   "source": [
    "print(session_df[-1:].to_string(index=False, col_space=20))"
   ]
  },
  {
   "cell_type": "code",
   "execution_count": 337,
   "id": "b37902f2-ca9d-45ee-b67b-0500ee7d27f0",
   "metadata": {},
   "outputs": [
    {
     "data": {
      "text/plain": [
       "['Tarnished finger', 'Always Feet 69', 'Cavelady Dida', 'Elden Lard']"
      ]
     },
     "execution_count": 337,
     "metadata": {},
     "output_type": "execute_result"
    }
   ],
   "source": [
    "session_df.Character.unique().tolist()"
   ]
  },
  {
   "cell_type": "code",
   "execution_count": 369,
   "id": "e51d5bfa-8798-4ce2-9d95-48b8ace3db16",
   "metadata": {},
   "outputs": [
    {
     "name": "stdout",
     "output_type": "stream",
     "text": [
      "        Started last            Character          Death count\n",
      " 2022-04-20 12:00:00       Always Feet 69                    4\n",
      " 2022-04-17 12:00:00        Cavelady Dida                    4\n",
      " 2022-04-12 12:00:00           Elden Lard                    8\n",
      " 2022-04-09 12:00:00     Tarnished finger                    4\n"
     ]
    }
   ],
   "source": [
    "uc = session_df.Character.unique().tolist()\n",
    "\n",
    "uc_data = [(session_df[session_df.Character == c].Started.max(), c, death_df[death_df.Character == c].shape[0]) for c in uc]\n",
    "\n",
    "uc_df = pd.DataFrame(uc_data, columns=['Started last', 'Character', 'Death count']).sort_values(by='Started last', ascending=False)\n",
    "\n",
    "print(uc_df.to_string(index=False, col_space=20))\n"
   ]
  },
  {
   "cell_type": "code",
   "execution_count": 370,
   "id": "fd2efe29-5d79-45b6-97c0-674a667c8cd1",
   "metadata": {},
   "outputs": [],
   "source": [
    "l = 'bob the builder'.split(' ')"
   ]
  },
  {
   "cell_type": "code",
   "execution_count": 372,
   "id": "6b19c7f1-3c1c-4a44-a609-75c1587a8174",
   "metadata": {},
   "outputs": [
    {
     "data": {
      "text/plain": [
       "'bob the builder'"
      ]
     },
     "execution_count": 372,
     "metadata": {},
     "output_type": "execute_result"
    }
   ],
   "source": [
    "' '.join(l)"
   ]
  },
  {
   "cell_type": "code",
   "execution_count": null,
   "id": "7d69ac22-451c-4f40-b9cd-43ca9d2a84ff",
   "metadata": {},
   "outputs": [],
   "source": []
  },
  {
   "cell_type": "code",
   "execution_count": null,
   "id": "62e1e6f3-fc66-439f-b28b-7848ffb1b0f4",
   "metadata": {},
   "outputs": [],
   "source": []
  },
  {
   "cell_type": "code",
   "execution_count": null,
   "id": "32d32dc8-fa3b-4c4a-8e46-2ee19e0e4b66",
   "metadata": {},
   "outputs": [],
   "source": []
  },
  {
   "cell_type": "code",
   "execution_count": null,
   "id": "c73eb5be-0507-458a-9449-fe7104eb7b15",
   "metadata": {},
   "outputs": [],
   "source": []
  },
  {
   "cell_type": "code",
   "execution_count": null,
   "id": "121db62c-93b4-42bb-a217-ce0eea11f508",
   "metadata": {},
   "outputs": [],
   "source": []
  },
  {
   "cell_type": "code",
   "execution_count": null,
   "id": "3fa3218e-4123-44d3-8c21-4cfbbd4d524e",
   "metadata": {},
   "outputs": [],
   "source": []
  },
  {
   "cell_type": "code",
   "execution_count": null,
   "id": "8808adab-ebd5-413f-8760-95485f412f42",
   "metadata": {},
   "outputs": [],
   "source": []
  },
  {
   "cell_type": "code",
   "execution_count": null,
   "id": "9dc036ab-7e90-4fe0-bc0c-a3d396221e47",
   "metadata": {},
   "outputs": [],
   "source": []
  }
 ],
 "metadata": {
  "kernelspec": {
   "display_name": "Python [conda env:elden]",
   "language": "python",
   "name": "conda-env-elden-py"
  },
  "language_info": {
   "codemirror_mode": {
    "name": "ipython",
    "version": 3
   },
   "file_extension": ".py",
   "mimetype": "text/x-python",
   "name": "python",
   "nbconvert_exporter": "python",
   "pygments_lexer": "ipython3",
   "version": "3.10.4"
  }
 },
 "nbformat": 4,
 "nbformat_minor": 5
}
